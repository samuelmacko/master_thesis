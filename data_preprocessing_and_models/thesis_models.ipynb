{
  "nbformat": 4,
  "nbformat_minor": 0,
  "metadata": {
    "colab": {
      "name": "thesis_models.ipynb",
      "provenance": [],
      "mount_file_id": "1DLAMcql9iEhj6I_JRuhMIsYkyGgYRzrO",
      "authorship_tag": "ABX9TyNASxUwh3qtMrACZ7bKC8fx",
      "include_colab_link": true
    },
    "kernelspec": {
      "name": "python3",
      "display_name": "Python 3"
    },
    "language_info": {
      "name": "python"
    }
  },
  "cells": [
    {
      "cell_type": "markdown",
      "metadata": {
        "id": "view-in-github",
        "colab_type": "text"
      },
      "source": [
        "<a href=\"https://colab.research.google.com/github/samuelmacko/master_thesis/blob/master/data_preprocessing_and_models/thesis_models.ipynb\" target=\"_parent\"><img src=\"https://colab.research.google.com/assets/colab-badge.svg\" alt=\"Open In Colab\"/></a>"
      ]
    },
    {
      "cell_type": "markdown",
      "metadata": {
        "id": "qY-SsaCA2_Rh"
      },
      "source": [
        "## csv to IDs"
      ]
    },
    {
      "cell_type": "code",
      "metadata": {
        "id": "35xUsGlgGq7w",
        "colab": {
          "base_uri": "https://localhost:8080/"
        },
        "outputId": "cee1a9f3-61d2-456a-b3d3-56173bdd22d6"
      },
      "source": [
        "! pip install pygithub"
      ],
      "execution_count": null,
      "outputs": [
        {
          "output_type": "stream",
          "text": [
            "Collecting pygithub\n",
            "\u001b[?25l  Downloading https://files.pythonhosted.org/packages/18/44/df78514f2b5f5abaec330596e0fa3273824238399a964d1a7e82fd39990d/PyGithub-1.54.1-py3-none-any.whl (289kB)\n",
            "\r\u001b[K     |█▏                              | 10kB 14.8MB/s eta 0:00:01\r\u001b[K     |██▎                             | 20kB 21.3MB/s eta 0:00:01\r\u001b[K     |███▍                            | 30kB 18.2MB/s eta 0:00:01\r\u001b[K     |████▌                           | 40kB 13.9MB/s eta 0:00:01\r\u001b[K     |█████▊                          | 51kB 15.9MB/s eta 0:00:01\r\u001b[K     |██████▉                         | 61kB 15.7MB/s eta 0:00:01\r\u001b[K     |████████                        | 71kB 12.2MB/s eta 0:00:01\r\u001b[K     |█████████                       | 81kB 13.4MB/s eta 0:00:01\r\u001b[K     |██████████▏                     | 92kB 13.2MB/s eta 0:00:01\r\u001b[K     |███████████▍                    | 102kB 12.1MB/s eta 0:00:01\r\u001b[K     |████████████▌                   | 112kB 12.1MB/s eta 0:00:01\r\u001b[K     |█████████████▋                  | 122kB 12.1MB/s eta 0:00:01\r\u001b[K     |██████████████▊                 | 133kB 12.1MB/s eta 0:00:01\r\u001b[K     |███████████████▉                | 143kB 12.1MB/s eta 0:00:01\r\u001b[K     |█████████████████               | 153kB 12.1MB/s eta 0:00:01\r\u001b[K     |██████████████████▏             | 163kB 12.1MB/s eta 0:00:01\r\u001b[K     |███████████████████▎            | 174kB 12.1MB/s eta 0:00:01\r\u001b[K     |████████████████████▍           | 184kB 12.1MB/s eta 0:00:01\r\u001b[K     |█████████████████████▌          | 194kB 12.1MB/s eta 0:00:01\r\u001b[K     |██████████████████████▊         | 204kB 12.1MB/s eta 0:00:01\r\u001b[K     |███████████████████████▉        | 215kB 12.1MB/s eta 0:00:01\r\u001b[K     |█████████████████████████       | 225kB 12.1MB/s eta 0:00:01\r\u001b[K     |██████████████████████████      | 235kB 12.1MB/s eta 0:00:01\r\u001b[K     |███████████████████████████▏    | 245kB 12.1MB/s eta 0:00:01\r\u001b[K     |████████████████████████████▍   | 256kB 12.1MB/s eta 0:00:01\r\u001b[K     |█████████████████████████████▌  | 266kB 12.1MB/s eta 0:00:01\r\u001b[K     |██████████████████████████████▋ | 276kB 12.1MB/s eta 0:00:01\r\u001b[K     |███████████████████████████████▊| 286kB 12.1MB/s eta 0:00:01\r\u001b[K     |████████████████████████████████| 296kB 12.1MB/s \n",
            "\u001b[?25hRequirement already satisfied: requests>=2.14.0 in /usr/local/lib/python3.7/dist-packages (from pygithub) (2.23.0)\n",
            "Collecting pyjwt<2.0\n",
            "  Downloading https://files.pythonhosted.org/packages/87/8b/6a9f14b5f781697e51259d81657e6048fd31a113229cf346880bb7545565/PyJWT-1.7.1-py2.py3-none-any.whl\n",
            "Collecting deprecated\n",
            "  Downloading https://files.pythonhosted.org/packages/fb/73/994edfcba74443146c84b91921fcc269374354118d4f452fb0c54c1cbb12/Deprecated-1.2.12-py2.py3-none-any.whl\n",
            "Requirement already satisfied: urllib3!=1.25.0,!=1.25.1,<1.26,>=1.21.1 in /usr/local/lib/python3.7/dist-packages (from requests>=2.14.0->pygithub) (1.24.3)\n",
            "Requirement already satisfied: chardet<4,>=3.0.2 in /usr/local/lib/python3.7/dist-packages (from requests>=2.14.0->pygithub) (3.0.4)\n",
            "Requirement already satisfied: idna<3,>=2.5 in /usr/local/lib/python3.7/dist-packages (from requests>=2.14.0->pygithub) (2.10)\n",
            "Requirement already satisfied: certifi>=2017.4.17 in /usr/local/lib/python3.7/dist-packages (from requests>=2.14.0->pygithub) (2020.12.5)\n",
            "Requirement already satisfied: wrapt<2,>=1.10 in /usr/local/lib/python3.7/dist-packages (from deprecated->pygithub) (1.12.1)\n",
            "Installing collected packages: pyjwt, deprecated, pygithub\n",
            "Successfully installed deprecated-1.2.12 pygithub-1.54.1 pyjwt-1.7.1\n"
          ],
          "name": "stdout"
        }
      ]
    },
    {
      "cell_type": "code",
      "metadata": {
        "id": "Z7IWfuVy3YLU"
      },
      "source": [
        "from csv import reader\n",
        "from marshal import dump, load\n",
        "from typing import Any, List, Optional, Set\n",
        "\n",
        "import github\n",
        "from github.GithubException import UnknownObjectException"
      ],
      "execution_count": null,
      "outputs": []
    },
    {
      "cell_type": "code",
      "metadata": {
        "id": "yP65w8Zx3BtQ"
      },
      "source": [
        "def save_visited_ids(dat_file: str, ids_set: Set[int]) -> None:\n",
        "    with open(file=dat_file, mode='wb') as f:\n",
        "        dump(ids_set, f)\n",
        "\n",
        "def load_visited_ids(dat_file: str) -> Optional[Set[int]]:\n",
        "    with open(file=dat_file, mode='rb') as f:\n",
        "        return load(f)\n"
      ],
      "execution_count": null,
      "outputs": []
    },
    {
      "cell_type": "code",
      "metadata": {
        "id": "6DhGWOgo6PXj"
      },
      "source": [
        "repo_names: Set[str] = set()\n",
        "\n",
        "with open(\n",
        "    file='/content/drive/MyDrive/thesis/datasets/maintained.csv_2021-03-17-21:22:12'\n",
        ") as maintained_csv:\n",
        "    csv_reader = reader(maintained_csv)\n",
        "    for row in csv_reader:\n",
        "        repo_names.add(row[0])"
      ],
      "execution_count": null,
      "outputs": []
    },
    {
      "cell_type": "code",
      "metadata": {
        "id": "UOf8h4Hh4VBW"
      },
      "source": [
        "repo_ids: Set[int] = set()\n",
        "error_names = set()\n",
        "g = Github(login_or_token='7da8f4fe8d6e50e96ace86a688e12cda92064bde')\n",
        "\n",
        "for repo_name in repo_names:\n",
        "    try:\n",
        "        repo = g.get_repo(full_name_or_id=repo_name)\n",
        "        repo_ids.add(repo.id)\n",
        "    except UnknownObjectException as e:\n",
        "        error_names.add(repo_name)\n",
        "        continue"
      ],
      "execution_count": null,
      "outputs": []
    },
    {
      "cell_type": "code",
      "metadata": {
        "id": "fbeO5HY95KUF"
      },
      "source": [
        "maintained_ids = load_visited_ids(\n",
        "    dat_file='/content/drive/MyDrive/thesis/datasets/maintained_ids.dat_2021-03-23-15:54:02'\n",
        ")"
      ],
      "execution_count": null,
      "outputs": []
    },
    {
      "cell_type": "code",
      "metadata": {
        "id": "5x4hYWflJVoS"
      },
      "source": [
        "maintained_ids = maintained_ids.union(repo_ids)"
      ],
      "execution_count": null,
      "outputs": []
    },
    {
      "cell_type": "code",
      "metadata": {
        "id": "SFbuNqlML7jd"
      },
      "source": [
        "save_visited_ids(\n",
        "    dat_file='/content/drive/MyDrive/thesis/datasets/maintained_ids.dat_2021-03-23-16:54:02',\n",
        "    ids_set=maintained_ids\n",
        ")"
      ],
      "execution_count": null,
      "outputs": []
    },
    {
      "cell_type": "markdown",
      "metadata": {
        "id": "AXIwppNyqdTs"
      },
      "source": [
        "## Statistics"
      ]
    },
    {
      "cell_type": "code",
      "metadata": {
        "id": "23I8eUG-CEKG"
      },
      "source": [
        "g = github.Github(login_or_token='7da8f4fe8d6e50e96ace86a688e12cda92064bde')\n",
        "# g = Github()"
      ],
      "execution_count": null,
      "outputs": []
    },
    {
      "cell_type": "code",
      "metadata": {
        "id": "QQRr-3Vr0mT9"
      },
      "source": [
        "def unmaintained_in_readme(repo: github.Repository) -> bool:\n",
        "    keywords_list = [\n",
        "        'deprecated', 'unmaintained', 'no longer maintained',\n",
        "        'no longer supported', 'no longer under development',\n",
        "        'not maintained', 'not under development', 'obsolete', 'archived'\n",
        "    ]\n",
        "    readme = repo.get_readme().decoded_content.decode(\"utf-8\")\n",
        "    return any(keyword in readme for keyword in keywords_list)"
      ],
      "execution_count": null,
      "outputs": []
    },
    {
      "cell_type": "code",
      "metadata": {
        "id": "ZlOdtmlw3Hpd"
      },
      "source": [
        "repos_with_unmaintained_in_readme = set()\n",
        "\n",
        "for repo_name in unmaintained_df['repo_name']:\n",
        "    try:\n",
        "        repo = g.get_repo(full_name_or_id=repo_name)\n",
        "\n",
        "        if unmaintained_in_readme(repo=repo):\n",
        "            repos_with_unmaintained_in_readme.add(repo.url)\n",
        "    except UnknownObjectException:\n",
        "        continue"
      ],
      "execution_count": null,
      "outputs": []
    },
    {
      "cell_type": "code",
      "metadata": {
        "colab": {
          "base_uri": "https://localhost:8080/"
        },
        "id": "x6cFJGyv6Rg4",
        "outputId": "6bbe08d4-cd4f-49ab-ce9a-d97a8e358b24"
      },
      "source": [
        "url = ''\n",
        "\n",
        "for repo_url in repos_with_unmaintained_in_readme:\n",
        "    url = repo_url.replace('https://api.', '')\n",
        "    url = url.replace('/repos', '')\n",
        "    print(url)"
      ],
      "execution_count": null,
      "outputs": [
        {
          "output_type": "stream",
          "text": [
            "github.com/pflnh/iCarousel\n",
            "github.com/paulgeringer/jenkins_api_client\n",
            "github.com/jbremond/pyload-freebsd\n",
            "github.com/Karyotyper/jquery\n",
            "github.com/gerapeldoorn/puppetlabs-apache\n",
            "github.com/yannan/TouchSwipe-Jquery-Plugin\n",
            "github.com/hschottm/MatchMemoPool\n",
            "github.com/qjcg/python_koans\n",
            "github.com/chenrui2014/ActionBarSherlock\n",
            "github.com/lassefs/javascript-state-machine\n",
            "github.com/zhtengw/nixnote2\n",
            "github.com/eins78/canned\n",
            "github.com/johnbk/bootstrap3-wysihtml5-bower\n",
            "github.com/panwang/OpenUDID\n",
            "github.com/ProPuke/nodejs-std\n",
            "github.com/eveevans/active_merchant\n",
            "github.com/stefano-garzarella/ompi-release\n",
            "github.com/dingjoey/storm\n",
            "github.com/sergey-shambir/cocos2d-x\n",
            "github.com/polmiro/active_model_serializers\n",
            "github.com/linkinwong/.emacs.d\n",
            "github.com/rightscale/rest_connection\n",
            "github.com/aleron75-archive/Webgriffe_TphPro\n"
          ],
          "name": "stdout"
        }
      ]
    },
    {
      "cell_type": "markdown",
      "metadata": {
        "id": "TtU6QGFf_YWQ"
      },
      "source": [
        "__maintained repository classified as unmaintained:__ github.com/hschottm/MatchMemoPool"
      ]
    },
    {
      "cell_type": "code",
      "metadata": {
        "id": "gkyQYj-i_2JO"
      },
      "source": [
        "repo_dict = {}\n",
        "error_names = set()\n",
        "\n",
        "for id in maintained_ids:\n",
        "    try:\n",
        "        repo = g.get_repo(full_name_or_id=id)\n",
        "        repo_dict[str(id)] = repo.get_commits()[0].last_modified\n",
        "    except UnknownObjectException as e:\n",
        "        error_names.add(repo_name)\n",
        "        continue"
      ],
      "execution_count": null,
      "outputs": []
    },
    {
      "cell_type": "code",
      "metadata": {
        "id": "1yotRoT9Bctt"
      },
      "source": [
        "repo_dict"
      ],
      "execution_count": null,
      "outputs": []
    },
    {
      "cell_type": "code",
      "metadata": {
        "id": "OOW8ET6pV23d"
      },
      "source": [
        "r = g.get_repo(3003195)"
      ],
      "execution_count": null,
      "outputs": []
    },
    {
      "cell_type": "code",
      "metadata": {
        "colab": {
          "base_uri": "https://localhost:8080/",
          "height": 35
        },
        "id": "9g5v2pR4V_bn",
        "outputId": "92699a38-de0a-49a8-ad9d-639b7fd66063"
      },
      "source": [
        "r.get_commits()[0].last_modified"
      ],
      "execution_count": null,
      "outputs": [
        {
          "output_type": "execute_result",
          "data": {
            "application/vnd.google.colaboratory.intrinsic+json": {
              "type": "string"
            },
            "text/plain": [
              "'Mon, 15 Sep 2014 19:09:26 GMT'"
            ]
          },
          "metadata": {
            "tags": []
          },
          "execution_count": 19
        }
      ]
    },
    {
      "cell_type": "code",
      "metadata": {
        "colab": {
          "base_uri": "https://localhost:8080/",
          "height": 35
        },
        "id": "AS8tNqBcWPxN",
        "outputId": "de80d5e7-ae8f-4e57-8a82-89f024389951"
      },
      "source": [
        "r.url"
      ],
      "execution_count": null,
      "outputs": [
        {
          "output_type": "execute_result",
          "data": {
            "application/vnd.google.colaboratory.intrinsic+json": {
              "type": "string"
            },
            "text/plain": [
              "'https://api.github.com/repos/gbenison/starparse'"
            ]
          },
          "metadata": {
            "tags": []
          },
          "execution_count": 25
        }
      ]
    },
    {
      "cell_type": "markdown",
      "metadata": {
        "id": "48om2fuWpYb0"
      },
      "source": [
        "# Preprocessing"
      ]
    },
    {
      "cell_type": "markdown",
      "metadata": {
        "id": "9nK5DPw0uoOe"
      },
      "source": [
        "## Methods"
      ]
    },
    {
      "cell_type": "code",
      "metadata": {
        "id": "5y-kdgvher-e"
      },
      "source": [
        "import numpy as np\n",
        "import pandas as pd\n",
        "\n",
        "from sklearn.compose import ColumnTransformer\n",
        "from sklearn.cluster import KMeans\n",
        "from sklearn.metrics import pairwise_distances\n",
        "from sklearn.model_selection import train_test_split\n",
        "from sklearn.preprocessing import OneHotEncoder, StandardScaler, RobustScaler"
      ],
      "execution_count": null,
      "outputs": []
    },
    {
      "cell_type": "code",
      "metadata": {
        "id": "RIHJ3lSVfTF3"
      },
      "source": [
        "def transform_dataframe(dataset: pd.DataFrame) -> np.ndarray:\n",
        "    all_cols_to_drop = ['repo_name', 'url']\n",
        "    all_cols_to_encode = [\n",
        "        'owner_type', 'has_test', 'has_doc', 'has_example', 'has_readme'\n",
        "    ]\n",
        "\n",
        "    cols_to_drop = [\n",
        "        col for col in all_cols_to_drop if col in dataset.columns\n",
        "    ]\n",
        "    cols_to_encode = [\n",
        "        col for col in all_cols_to_encode if col in dataset.columns\n",
        "    ]\n",
        "    cols_to_scale = [\n",
        "        col for col in dataset.columns if (\n",
        "            col not in cols_to_encode and col not in cols_to_drop\n",
        "        )\n",
        "    ]\n",
        "\n",
        "    transformer = ColumnTransformer([\n",
        "        ('OHE', OneHotEncoder(), cols_to_encode),\n",
        "        # ('RobustScaler', RobustScaler(), cols_to_scale)\n",
        "        ('StScaler', StandardScaler(), cols_to_scale)\n",
        "    ])\n",
        "\n",
        "    return transformer.fit_transform(dataset)\n",
        "\n",
        "def correlated_columns(dataset: pd.DataFrame, threshold: float) -> list:\n",
        "    corr_matrix = dataset.corr().abs()\n",
        "    upper_triangle = corr_matrix.where(\n",
        "        np.triu(np.ones(corr_matrix.shape), k=1).astype(np.bool)\n",
        "    )\n",
        "\n",
        "    correlated_columns = [\n",
        "        col for col in upper_triangle.columns\n",
        "        if any(upper_triangle[col] > threshold)\n",
        "    ]\n",
        "    return correlated_columns"
      ],
      "execution_count": null,
      "outputs": []
    },
    {
      "cell_type": "markdown",
      "metadata": {
        "id": "Xq6hIX-vurV9"
      },
      "source": [
        "## Load data"
      ]
    },
    {
      "cell_type": "code",
      "metadata": {
        "colab": {
          "base_uri": "https://localhost:8080/"
        },
        "id": "8IFuebWTuths",
        "outputId": "d134e639-781c-4c1e-9a41-1995e292de21"
      },
      "source": [
        "maintained_df: pd.DataFrame = pd.read_csv(\n",
        "    '/content/drive/MyDrive/thesis/datasets/maintained.csv_2021-03-27-09 18 43'\n",
        ")\n",
        "maintained_df.shape"
      ],
      "execution_count": null,
      "outputs": [
        {
          "output_type": "execute_result",
          "data": {
            "text/plain": [
              "(125, 30)"
            ]
          },
          "metadata": {
            "tags": []
          },
          "execution_count": 13
        }
      ]
    },
    {
      "cell_type": "code",
      "metadata": {
        "colab": {
          "base_uri": "https://localhost:8080/"
        },
        "id": "kr-4xqjvvEWP",
        "outputId": "56ce22ea-47e8-4dca-c8e8-3bc95d955e82"
      },
      "source": [
        "unmaintained_df: pd.DataFrame = pd.read_csv(\n",
        "    '/content/drive/MyDrive/thesis/datasets/unmaintained.csv_2021-03-30-09 41 31'\n",
        ")\n",
        "unmaintained_df.shape"
      ],
      "execution_count": null,
      "outputs": [
        {
          "output_type": "execute_result",
          "data": {
            "text/plain": [
              "(603, 30)"
            ]
          },
          "metadata": {
            "tags": []
          },
          "execution_count": 14
        }
      ]
    },
    {
      "cell_type": "markdown",
      "metadata": {
        "id": "V8gC4Yd4vTs_"
      },
      "source": [
        "### Correlated columns"
      ]
    },
    {
      "cell_type": "code",
      "metadata": {
        "id": "tPxfOLO2v5mN"
      },
      "source": [
        "from matplotlib import rcParams\n",
        "import seaborn as sns\n",
        "\n",
        "rcParams['figure.figsize'] = 10, 10"
      ],
      "execution_count": null,
      "outputs": []
    },
    {
      "cell_type": "code",
      "metadata": {
        "colab": {
          "base_uri": "https://localhost:8080/"
        },
        "id": "b92fHqSXwBu1",
        "outputId": "d5ac284a-d950-4190-b11e-32369c6442b6"
      },
      "source": [
        "ax = sns.heatmap(\n",
        "    unmaintained_df.corr(), vmin=-1, vmax=1, center=0,\n",
        "    cmap=sns.diverging_palette(20, 220, n=200),\n",
        "    xticklabels=True, yticklabels=True, square=True\n",
        ")\n",
        "ax.set_xticklabels(\n",
        "    ax.get_xticklabels(), rotation=45, horizontalalignment='right'\n",
        ");"
      ],
      "execution_count": null,
      "outputs": [
        {
          "output_type": "display_data",
          "data": {
            "image/png": "[encoded data removed]",
            "text/plain": [
              "<Figure size 720x720 with 2 Axes>"
            ]
          },
          "metadata": {
            "tags": [],
            "needs_background": "light"
          }
        }
      ]
    },
    {
      "cell_type": "code",
      "metadata": {
        "colab": {
          "base_uri": "https://localhost:8080/"
        },
        "id": "Xouh6RXtvV6M",
        "outputId": "f55da993-5c23-4c21-d2ae-8ea054a7e138"
      },
      "source": [
        "correlated_cols = correlated_columns(dataset=unmaintained_df, threshold=0.9)\n",
        "\n",
        "maintained_df = maintained_df.drop(columns=correlated_cols)\n",
        "unmaintained_df = unmaintained_df.drop(columns=correlated_cols)\n",
        "\n",
        "maintained_df.shape, unmaintained_df.shape"
      ],
      "execution_count": null,
      "outputs": [
        {
          "output_type": "execute_result",
          "data": {
            "text/plain": [
              "((125, 25), (603, 25))"
            ]
          },
          "metadata": {
            "tags": []
          },
          "execution_count": 17
        }
      ]
    },
    {
      "cell_type": "code",
      "metadata": {
        "colab": {
          "base_uri": "https://localhost:8080/"
        },
        "id": "xoeAsV48jw0J",
        "outputId": "6f40fbe4-3f9f-4040-ea68-3216c49673e4"
      },
      "source": [
        "correlated_cols"
      ],
      "execution_count": null,
      "outputs": [
        {
          "output_type": "execute_result",
          "data": {
            "text/plain": [
              "['issues_count_open',\n",
              " 'issues_count_closed',\n",
              " 'releases_count',\n",
              " 'stargazers_count',\n",
              " 'wealth']"
            ]
          },
          "metadata": {
            "tags": []
          },
          "execution_count": 18
        }
      ]
    },
    {
      "cell_type": "markdown",
      "metadata": {
        "id": "5ekb2dXpf2sM"
      },
      "source": [
        "# Compute centroid"
      ]
    },
    {
      "cell_type": "code",
      "metadata": {
        "id": "Wzw3AZ0Nf_yc"
      },
      "source": [
        "def compute_centroid(dataset: np.ndarray) -> np.ndarray:\n",
        "    model = KMeans(n_clusters=1)\n",
        "    model.fit(X=dataset)\n",
        "    return model.cluster_centers_"
      ],
      "execution_count": null,
      "outputs": []
    },
    {
      "cell_type": "code",
      "metadata": {
        "id": "CVqLfstZgQnb"
      },
      "source": [
        "maintained_tr = transform_dataframe(dataset=maintained_df)\n",
        "\n",
        "centroid = compute_centroid(dataset=maintained_tr)"
      ],
      "execution_count": null,
      "outputs": []
    },
    {
      "cell_type": "markdown",
      "metadata": {
        "id": "4A83ZlAYiU-X"
      },
      "source": [
        "## Maintained outlier and centroid visualization - __unused__"
      ]
    },
    {
      "cell_type": "code",
      "metadata": {
        "colab": {
          "base_uri": "https://localhost:8080/"
        },
        "id": "yOzAKmBMB-pM",
        "outputId": "3c38a24e-2bf0-4c3a-915e-33e42c95d939"
      },
      "source": [
        "maintained_tr.shape"
      ],
      "execution_count": null,
      "outputs": [
        {
          "output_type": "execute_result",
          "data": {
            "text/plain": [
              "(125, 28)"
            ]
          },
          "metadata": {
            "tags": []
          },
          "execution_count": 21
        }
      ]
    },
    {
      "cell_type": "code",
      "metadata": {
        "id": "BcT9LZGfDsIS"
      },
      "source": [
        "import matplotlib.pyplot as plt\n",
        "from sklearn.decomposition import PCA\n",
        "from sklearn.ensemble import IsolationForest"
      ],
      "execution_count": null,
      "outputs": []
    },
    {
      "cell_type": "code",
      "metadata": {
        "id": "8CG-yw30CmCj"
      },
      "source": [
        "def remove_outliers(X: np.ndarray) -> np.ndarray:\n",
        "    clf = IsolationForest(contamination=0.3).fit(X=X)\n",
        "    outliers = clf.predict(X=X)\n",
        "    mask = outliers < 0\n",
        "    return X[~mask]"
      ],
      "execution_count": null,
      "outputs": []
    },
    {
      "cell_type": "code",
      "metadata": {
        "colab": {
          "base_uri": "https://localhost:8080/",
          "height": 167
        },
        "id": "EajHVLDxT4GH",
        "outputId": "17c82b2e-11d1-4f96-aea5-29457296fe06"
      },
      "source": [
        "a = np.append(maintained_tr_out, centroid, axis=0)"
      ],
      "execution_count": null,
      "outputs": [
        {
          "output_type": "error",
          "ename": "NameError",
          "evalue": "ignored",
          "traceback": [
            "\u001b[0;31m---------------------------------------------------------------------------\u001b[0m",
            "\u001b[0;31mNameError\u001b[0m                                 Traceback (most recent call last)",
            "\u001b[0;32m<ipython-input-24-ab07ab91f864>\u001b[0m in \u001b[0;36m<module>\u001b[0;34m()\u001b[0m\n\u001b[0;32m----> 1\u001b[0;31m \u001b[0ma\u001b[0m \u001b[0;34m=\u001b[0m \u001b[0mnp\u001b[0m\u001b[0;34m.\u001b[0m\u001b[0mappend\u001b[0m\u001b[0;34m(\u001b[0m\u001b[0mmaintained_tr_out\u001b[0m\u001b[0;34m,\u001b[0m \u001b[0mcentroid\u001b[0m\u001b[0;34m,\u001b[0m \u001b[0maxis\u001b[0m\u001b[0;34m=\u001b[0m\u001b[0;36m0\u001b[0m\u001b[0;34m)\u001b[0m\u001b[0;34m\u001b[0m\u001b[0;34m\u001b[0m\u001b[0m\n\u001b[0m",
            "\u001b[0;31mNameError\u001b[0m: name 'maintained_tr_out' is not defined"
          ]
        }
      ]
    },
    {
      "cell_type": "code",
      "metadata": {
        "id": "dKpordL2DBPR"
      },
      "source": [
        "(remove_outliers(X_train)).shape"
      ],
      "execution_count": null,
      "outputs": []
    },
    {
      "cell_type": "code",
      "metadata": {
        "id": "5sOJPmoOCF_c"
      },
      "source": [
        "X_train.shape"
      ],
      "execution_count": null,
      "outputs": []
    },
    {
      "cell_type": "code",
      "metadata": {
        "id": "_2ZQG4d5CZOD"
      },
      "source": [
        "X_train_reduced.shape"
      ],
      "execution_count": null,
      "outputs": []
    },
    {
      "cell_type": "code",
      "metadata": {
        "id": "ihI_YoGlDt7f"
      },
      "source": [
        "pca = PCA(n_components=2)\n",
        "\n",
        "# maintained_reduced = pca.fit_transform(X=maintained_tr_out)\n",
        "# maintained_reduced = pca.fit_transform(X=a)\n",
        "X_train_reduced = pca.fit_transform(X=remove_outliers(X_train))"
      ],
      "execution_count": null,
      "outputs": []
    },
    {
      "cell_type": "code",
      "metadata": {
        "id": "dKV-qOxiGK57"
      },
      "source": [
        "# plt.scatter(x=maintained_reduced[:,0], y=maintained_reduced[:,1], alpha=0.5)\n",
        "# plt.scatter(x=maintained_reduced[-1,0], y=maintained_reduced[-1,1], alpha=0.5, color='red')\n",
        "plt.scatter(x=X_train_reduced[:, 0], y=X_train_reduced[:, 1], alpha=0.5)\n",
        "plt.show()"
      ],
      "execution_count": null,
      "outputs": []
    },
    {
      "cell_type": "markdown",
      "metadata": {
        "id": "LALLjNL3qbVk"
      },
      "source": [
        "# Prepare unmaintained data"
      ]
    },
    {
      "cell_type": "markdown",
      "metadata": {
        "id": "_xCdCSHBDZsp"
      },
      "source": [
        "## Split"
      ]
    },
    {
      "cell_type": "code",
      "metadata": {
        "colab": {
          "base_uri": "https://localhost:8080/"
        },
        "id": "9pHD37x6_ybz",
        "outputId": "422bde21-2cb8-476f-beb8-55ee3051f462"
      },
      "source": [
        "X_train_df, X_test_df = train_test_split(\n",
        "    unmaintained_df, test_size=0.2, random_state=2\n",
        ")\n",
        "\n",
        "X_train = transform_dataframe(dataset=X_train_df)\n",
        "X_test = transform_dataframe(dataset=X_test_df)\n",
        "\n",
        "X_train.shape, X_test.shape"
      ],
      "execution_count": null,
      "outputs": [
        {
          "output_type": "execute_result",
          "data": {
            "text/plain": [
              "((482, 28), (121, 28))"
            ]
          },
          "metadata": {
            "tags": []
          },
          "execution_count": 27
        }
      ]
    },
    {
      "cell_type": "markdown",
      "metadata": {
        "id": "xssxK8q3DbsY"
      },
      "source": [
        "## Label"
      ]
    },
    {
      "cell_type": "code",
      "metadata": {
        "id": "MV_x7vOLxBfN"
      },
      "source": [
        "from typing import Union"
      ],
      "execution_count": null,
      "outputs": []
    },
    {
      "cell_type": "code",
      "metadata": {
        "id": "pGySoXbgBFLo"
      },
      "source": [
        "def create_labels(X: np.ndarray, centroid: np.ndarray) -> np.ndarray:\n",
        "    distances = pairwise_distances(X=X, Y=centroid, metric='l2')\n",
        "    distances = distances.reshape(distances.shape[0], 1)\n",
        "    X_d = np.append(arr=X, values=distances, axis=1)\n",
        "\n",
        "    lower_bound, upper_bound = outlier_ranges(dataset=distances)\n",
        "    X_r = X_d[\n",
        "        (X_d[:, X_d.shape[1] - 1] > lower_bound) & \\\n",
        "        (X_d[:, X_d.shape[1] - 1] < upper_bound)\n",
        "    ]\n",
        "\n",
        "    _, edges = np.histogram(a=X_r[:, -1], bins=10)\n",
        "\n",
        "    for i in range(X_d.shape[0]):\n",
        "        distance = X_d[i, -1]\n",
        "        label = np.searchsorted(a=edges, v=distance, side='left')\n",
        "        if label == 0:\n",
        "            label = 1\n",
        "        if label > 10:\n",
        "            label = 10\n",
        "\n",
        "        X_d[i, X_d.shape[1] - 1] = label\n",
        "\n",
        "    return X_d[:, :-1], X_d[:, -1]\n",
        "\n",
        "def outlier_ranges(dataset: np.ndarray) -> Union[float, float]:\n",
        "    dataset.sort()\n",
        "    Q1, Q3 = np.percentile(dataset, [25, 75])\n",
        "    IQR = Q3 - Q1\n",
        "    lower_range = Q1 - (1.5 * IQR)\n",
        "    upper_range = Q3 + (1.5 * IQR)\n",
        "\n",
        "    return lower_range, upper_range"
      ],
      "execution_count": null,
      "outputs": []
    },
    {
      "cell_type": "code",
      "metadata": {
        "id": "SfTP7oCNb_tj"
      },
      "source": [
        "X_train, y_train = create_labels(X=X_train, centroid=centroid)\n",
        "X_test, y_test = create_labels(X=X_test, centroid=centroid)"
      ],
      "execution_count": null,
      "outputs": []
    },
    {
      "cell_type": "markdown",
      "metadata": {
        "id": "toOXz7cnne8g"
      },
      "source": [
        "### Visulalizations"
      ]
    },
    {
      "cell_type": "code",
      "metadata": {
        "id": "jeLUdb1CoL1h"
      },
      "source": [
        "# plt.hist(y_train, bins=10)"
      ],
      "execution_count": null,
      "outputs": []
    },
    {
      "cell_type": "code",
      "metadata": {
        "id": "qUaqPErSnhhV"
      },
      "source": [
        "# plt.hist(y_test, bins=10)"
      ],
      "execution_count": null,
      "outputs": []
    },
    {
      "cell_type": "markdown",
      "metadata": {
        "id": "kmHVsDyRmyKd"
      },
      "source": [
        "# Training"
      ]
    },
    {
      "cell_type": "markdown",
      "metadata": {
        "id": "qFmNB75znXQK"
      },
      "source": [
        "## Parameters for grid search"
      ]
    },
    {
      "cell_type": "code",
      "metadata": {
        "id": "2449RdP0njH2"
      },
      "source": [
        "from typing import Dict, List\n",
        "\n",
        "from sklearn.ensemble import RandomForestClassifier\n",
        "from sklearn.model_selection import GridSearchCV\n",
        "from sklearn.neural_network import MLPClassifier\n",
        "from sklearn.neighbors import KNeighborsClassifier\n",
        "from sklearn.svm import SVC"
      ],
      "execution_count": null,
      "outputs": []
    },
    {
      "cell_type": "code",
      "metadata": {
        "id": "jHO6cksaOOJH"
      },
      "source": [
        "randomforest_parameters = {\n",
        "    # # 'n_estimators': [int(x) for x in np.linspace(start = 200, stop = 2000, num = 10)],\n",
        "    # 'n_estimators': [x for x in range(100, 600, 100)],\n",
        "    # 'max_features': ['auto', 'sqrt'],\n",
        "    # # 'max_depth': [int(x) for x in np.linspace(10, 110, num = 11)] + [None],\n",
        "    # # 'max_depth': [int(x) for x in np.linspace(10, 50, num = 11)] + [None],\n",
        "    # 'max_depth': [x for x in range(10, 60, 10)] + [None],\n",
        "    # 'min_samples_split': [2, 5, 10],\n",
        "    # 'min_samples_leaf': [1, 2, 4],\n",
        "    # 'bootstrap': [True, False],\n",
        "    'criterion': ['gini', 'entropy']\n",
        "}\n",
        "\n",
        "SVC_parameters = {\n",
        "    # 'C': [0.1, 1, 10, 100, 1000],\n",
        "    # 'gamma': [1, 0.1, 0.01, 0.001, 0.0001],\n",
        "    'kernel': ['rbf', 'poly', 'sigmoid']\n",
        "}\n",
        "\n",
        "kNN_parameters = {\n",
        "    # 'n_neighbors': [1, 10, 1],\n",
        "    # 'leaf_size': [20, 40, 1],\n",
        "    # 'p': [1, 2],\n",
        "    # 'weights': ['uniform', 'distance'],\n",
        "    'metric': ['minkowski', 'chebyshev']\n",
        "}\n",
        "\n",
        "MLP_parameters = {\n",
        "    # 'batch_size': [25, 32],\n",
        "    'max_iter': [100, 500],\n",
        "    'solver': ['sgd', 'adam', 'lbfgs']\n",
        "}\n",
        "\n",
        "models_and_parameters = [\n",
        "    ('RandomForest', RandomForestClassifier(), randomforest_parameters),\n",
        "    # ('SVC', SVC(), SVC_parameters),\n",
        "    # ('kNN', KNeighborsClassifier(), kNN_parameters),\n",
        "    # ('MLP', MLPClassifier(), MLP_parameters)\n",
        "]"
      ],
      "execution_count": null,
      "outputs": []
    },
    {
      "cell_type": "markdown",
      "metadata": {
        "id": "1ZAVnqZ6nalO"
      },
      "source": [
        "## Grid search"
      ]
    },
    {
      "cell_type": "code",
      "metadata": {
        "id": "IxFm3jPJpRtt"
      },
      "source": [
        "from sklearn.metrics import make_scorer"
      ],
      "execution_count": null,
      "outputs": []
    },
    {
      "cell_type": "code",
      "metadata": {
        "id": "K1BPA-dEjGto"
      },
      "source": [
        "keys_to_remove = [\n",
        "    'params', 'param_solver', 'param_max_iter', 'mean_fit_time',\n",
        "    'mean_score_time', 'std_fit_time', 'std_score_time',\n",
        "    'mean_fit_time', 'std_fit_time', 'mean_score_time', 'std_score_time'\n",
        "]\n",
        "keys_to_remove += [f'split{i}_test_accuracy' for i in range(0, 5)]\n",
        "keys_to_remove += [f'split{i}_test_precision_macro' for i in range(0, 5)]\n",
        "keys_to_remove += [f'split{i}_test_recall_macro' for i in range(0, 5)]\n",
        "\n",
        "def process_results(\n",
        "    results: Dict[str, np.ndarray], keys_to_remove: List[str]\n",
        ") -> pd.DataFrame:\n",
        "    keys = list(results.keys())\n",
        "\n",
        "    for key in keys:\n",
        "        if key in keys_to_remove:\n",
        "            del results[key]\n",
        "\n",
        "    return pd.DataFrame(data=results)"
      ],
      "execution_count": null,
      "outputs": []
    },
    {
      "cell_type": "code",
      "metadata": {
        "colab": {
          "base_uri": "https://localhost:8080/"
        },
        "id": "RPxEL-Cyg8Te",
        "outputId": "f4a5d816-f459-4efb-8ab5-048d30cec9fd"
      },
      "source": [
        "randomforest_parameters"
      ],
      "execution_count": null,
      "outputs": [
        {
          "output_type": "execute_result",
          "data": {
            "text/plain": [
              "{'bootstrap': [True, False],\n",
              " 'criterion': ['gini', 'entropy'],\n",
              " 'max_depth': [10, 20, 30, 40, 50, None],\n",
              " 'max_features': ['auto', 'sqrt'],\n",
              " 'min_samples_leaf': [1, 2, 4],\n",
              " 'min_samples_split': [2, 5, 10],\n",
              " 'n_estimators': [100, 200, 300, 400, 500]}"
            ]
          },
          "metadata": {
            "tags": []
          },
          "execution_count": 84
        }
      ]
    },
    {
      "cell_type": "code",
      "metadata": {
        "id": "aQLE9ikUr7RY"
      },
      "source": [
        "def approx_score(y_true: np.ndarray, y_predicted: np.ndarray) -> float:\n",
        "    correct = 0\n",
        "    size = y_true.size\n",
        "\n",
        "    for i in range(size):\n",
        "        if y_true[i] == y_predicted[i] or y_true[i] == y_predicted[i] + 1 or \\\n",
        "            y_true[i] == y_predicted[i] - 1:\n",
        "            correct += 1\n",
        "\n",
        "    return correct / size"
      ],
      "execution_count": null,
      "outputs": []
    },
    {
      "cell_type": "code",
      "metadata": {
        "id": "PZRcdcBJmxgZ"
      },
      "source": [
        "scoring = {\n",
        "    'accuracy': 'accuracy',\n",
        "    'approx': make_scorer(approx_score)\n",
        "}\n",
        "\n",
        "results_dict = {}\n",
        "\n",
        "for mp in models_and_parameters:\n",
        "    clf = GridSearchCV(\n",
        "        # estimator=mp[1], param_grid=mp[2], scoring=scoring, refit=False\n",
        "        estimator=mp[1], param_grid=mp[2], scoring=scoring, refit='accuracy'\n",
        "    )\n",
        "    clf.fit(X=X_train, y=y_train)\n",
        "\n",
        "    # results_dict[mp[0]] = process_results(\n",
        "    #     results=clf.cv_results_, keys_to_remove=keys_to_remove\n",
        "    # )"
      ],
      "execution_count": null,
      "outputs": []
    },
    {
      "cell_type": "code",
      "metadata": {
        "colab": {
          "base_uri": "https://localhost:8080/"
        },
        "id": "taIJacKE_I3l",
        "outputId": "d06cf371-fb9e-481d-b480-66c2da133540"
      },
      "source": [
        "clf.cv_results_"
      ],
      "execution_count": null,
      "outputs": [
        {
          "output_type": "execute_result",
          "data": {
            "text/plain": [
              "{'mean_fit_time': array([0.18733449, 0.28023882]),\n",
              " 'mean_score_time': array([0.00959277, 0.0095942 ]),\n",
              " 'mean_test_accuracy': array([0.65985825, 0.62661082]),\n",
              " 'mean_test_special_scorer': array([0.82996134, 0.79254725]),\n",
              " 'param_criterion': masked_array(data=['gini', 'entropy'],\n",
              "              mask=[False, False],\n",
              "        fill_value='?',\n",
              "             dtype=object),\n",
              " 'params': [{'criterion': 'gini'}, {'criterion': 'entropy'}],\n",
              " 'rank_test_accuracy': array([1, 2], dtype=int32),\n",
              " 'rank_test_special_scorer': array([1, 2], dtype=int32),\n",
              " 'split0_test_accuracy': array([0.62886598, 0.6185567 ]),\n",
              " 'split0_test_special_scorer': array([0.81443299, 0.77319588]),\n",
              " 'split1_test_accuracy': array([0.63917526, 0.60824742]),\n",
              " 'split1_test_special_scorer': array([0.80412371, 0.80412371]),\n",
              " 'split2_test_accuracy': array([0.625, 0.625]),\n",
              " 'split2_test_special_scorer': array([0.79166667, 0.76041667]),\n",
              " 'split3_test_accuracy': array([0.70833333, 0.65625   ]),\n",
              " 'split3_test_special_scorer': array([0.90625   , 0.85416667]),\n",
              " 'split4_test_accuracy': array([0.69791667, 0.625     ]),\n",
              " 'split4_test_special_scorer': array([0.83333333, 0.77083333]),\n",
              " 'std_fit_time': array([0.00371295, 0.00227709]),\n",
              " 'std_score_time': array([0.00018325, 0.00022037]),\n",
              " 'std_test_accuracy': array([0.03578179, 0.01603592]),\n",
              " 'std_test_special_scorer': array([0.04051302, 0.0340861 ])}"
            ]
          },
          "metadata": {
            "tags": []
          },
          "execution_count": 97
        }
      ]
    },
    {
      "cell_type": "code",
      "metadata": {
        "colab": {
          "base_uri": "https://localhost:8080/"
        },
        "id": "6aV1aP7B_DxT",
        "outputId": "ce4b5b8a-067b-4a6a-cee1-74e97d1824ee"
      },
      "source": [
        "clf.cv_results_.keys()"
      ],
      "execution_count": null,
      "outputs": [
        {
          "output_type": "execute_result",
          "data": {
            "text/plain": [
              "dict_keys(['mean_fit_time', 'std_fit_time', 'mean_score_time', 'std_score_time', 'param_bootstrap', 'param_criterion', 'param_max_depth', 'param_max_features', 'param_min_samples_leaf', 'param_min_samples_split', 'param_n_estimators', 'params', 'split0_test_score', 'split1_test_score', 'split2_test_score', 'split3_test_score', 'split4_test_score', 'mean_test_score', 'std_test_score', 'rank_test_score'])"
            ]
          },
          "metadata": {
            "tags": []
          },
          "execution_count": 91
        }
      ]
    },
    {
      "cell_type": "code",
      "metadata": {
        "colab": {
          "base_uri": "https://localhost:8080/"
        },
        "id": "jnHlzK7CAZ2i",
        "outputId": "7a36a106-6c35-4c42-e942-bc38d2b0aee0"
      },
      "source": [
        "clf.cv_results_['mean_test_score'].mean()\n",
        "# type(clf.cv_results_['params'])\n",
        "# clf.cv_results_['std_test_score']"
      ],
      "execution_count": null,
      "outputs": [
        {
          "output_type": "execute_result",
          "data": {
            "text/plain": [
              "0.6057290321764006"
            ]
          },
          "metadata": {
            "tags": []
          },
          "execution_count": 109
        }
      ]
    },
    {
      "cell_type": "code",
      "metadata": {
        "colab": {
          "base_uri": "https://localhost:8080/"
        },
        "id": "9PUbKi2jZQub",
        "outputId": "e8276160-1199-49d6-ba66-8fd51b6718a8"
      },
      "source": [
        "# len(clf.cv_results_['params'])\n",
        "len(clf.cv_results_['mean_test_score'])"
      ],
      "execution_count": null,
      "outputs": [
        {
          "output_type": "execute_result",
          "data": {
            "text/plain": [
              "2160"
            ]
          },
          "metadata": {
            "tags": []
          },
          "execution_count": 111
        }
      ]
    },
    {
      "cell_type": "code",
      "metadata": {
        "id": "IK6bUTxrwKIR"
      },
      "source": [
        "results_dict['MLP']"
      ],
      "execution_count": null,
      "outputs": []
    },
    {
      "cell_type": "markdown",
      "metadata": {
        "id": "ietwLW2FdocW"
      },
      "source": [
        "# Results"
      ]
    },
    {
      "cell_type": "markdown",
      "metadata": {
        "id": "pNvQNJLIds40"
      },
      "source": [
        "## Baselines"
      ]
    },
    {
      "cell_type": "code",
      "metadata": {
        "id": "BGYq3VmAdvJq"
      },
      "source": [
        "from sklearn.dummy import DummyClassifier\n",
        "from sklearn.metrics import accuracy_score, precision_score, recall_score"
      ],
      "execution_count": null,
      "outputs": []
    },
    {
      "cell_type": "markdown",
      "metadata": {
        "id": "HkIoMvQNel_O"
      },
      "source": [
        "### Stratified"
      ]
    },
    {
      "cell_type": "code",
      "metadata": {
        "colab": {
          "base_uri": "https://localhost:8080/"
        },
        "id": "7kavJfKuCyVj",
        "outputId": "108f267c-1fba-45f0-a170-eb050be3cbf1"
      },
      "source": [
        "baseline_stratified_clf = DummyClassifier(strategy='stratified')\n",
        "baseline_stratified_clf.fit(X=X_train, y=y_train)\n",
        "\n",
        "y_pred = baseline_stratified_clf.predict(X=X_train)\n",
        "accuracy_score(y_true=y_train, y_pred=y_pred)"
      ],
      "execution_count": null,
      "outputs": [
        {
          "output_type": "execute_result",
          "data": {
            "text/plain": [
              "0.24688796680497926"
            ]
          },
          "metadata": {
            "tags": []
          },
          "execution_count": 62
        }
      ]
    },
    {
      "cell_type": "markdown",
      "metadata": {
        "id": "aZeBxh30erS8"
      },
      "source": [
        "### Most frequent"
      ]
    },
    {
      "cell_type": "code",
      "metadata": {
        "colab": {
          "base_uri": "https://localhost:8080/"
        },
        "id": "GbYj9KdAetuJ",
        "outputId": "c57f0a56-f0e6-4bfd-bd18-9cc5a90ed03c"
      },
      "source": [
        "baseline_most_frequent_clf = DummyClassifier(strategy='most_frequent')\n",
        "baseline_most_frequent_clf.fit(X=X_train, y=y_train)\n",
        "\n",
        "y_pred = baseline_most_frequent_clf.predict(X=X_train)\n",
        "accuracy_score(y_true=y_train, y_pred=y_pred)"
      ],
      "execution_count": null,
      "outputs": [
        {
          "output_type": "execute_result",
          "data": {
            "text/plain": [
              "0.35269709543568467"
            ]
          },
          "metadata": {
            "tags": []
          },
          "execution_count": 63
        }
      ]
    }
  ]
}